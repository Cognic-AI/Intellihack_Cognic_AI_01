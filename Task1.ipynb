{
 "cells": [
  {
   "cell_type": "code",
   "execution_count": 1,
   "metadata": {},
   "outputs": [
    {
     "name": "stdout",
     "output_type": "stream",
     "text": [
      "        date  avg_temperature   humidity  avg_wind_speed rain_or_not  \\\n",
      "0 2023-01-01        23.745401  46.140905        7.845981        Rain   \n",
      "1 2023-01-02        30.030503  59.876587        5.382457        Rain   \n",
      "2 2023-01-03        28.365224  51.464618       13.158008        Rain   \n",
      "3 2023-01-04        27.550929  53.103799        5.886677        Rain   \n",
      "4 2023-01-05        23.639303  57.826186       12.248992        Rain   \n",
      "\n",
      "   cloud_cover     pressure  \n",
      "0    20.851051   992.965681  \n",
      "1    93.059521  1037.273025  \n",
      "2    11.636640  1034.193357  \n",
      "3    81.744971   968.610142  \n",
      "4    38.062329  1030.264331  \n"
     ]
    }
   ],
   "source": [
    "import pandas as pd\n",
    "import numpy as np\n",
    "\n",
    "# Load the CSV file, parsing the 'date' column as datetime\n",
    "weather_data = pd.read_csv('weather_data.csv', parse_dates=['date'])\n",
    "\n",
    "# Display the first few rows of the dataframe\n",
    "print(weather_data.head())"
   ]
  }
 ],
 "metadata": {
  "kernelspec": {
   "display_name": "myenv4",
   "language": "python",
   "name": "python3"
  },
  "language_info": {
   "codemirror_mode": {
    "name": "ipython",
    "version": 3
   },
   "file_extension": ".py",
   "mimetype": "text/x-python",
   "name": "python",
   "nbconvert_exporter": "python",
   "pygments_lexer": "ipython3",
   "version": "3.8.18"
  }
 },
 "nbformat": 4,
 "nbformat_minor": 2
}
